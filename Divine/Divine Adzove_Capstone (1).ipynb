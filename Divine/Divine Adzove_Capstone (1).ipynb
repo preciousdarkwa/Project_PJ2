{
 "cells": [
  {
   "cell_type": "markdown",
   "id": "c1d772ab",
   "metadata": {},
   "source": [
    "# Python Capstone Project  \n",
    "## TOPIC: Amazon Laptop Prices  \n",
    "###  1. What are the top 10 brands by unit sold?  \n",
    "###  2. What are the 10 average least expensive brands?\n",
    "###  3. What are the 10 average most expensive brands?\n",
    "###  4. What are the 10 average most rated brands? \n",
    "###  5. Applying the correlation matrix"
   ]
  },
  {
   "cell_type": "code",
   "execution_count": 2,
   "id": "abadacf7",
   "metadata": {},
   "outputs": [],
   "source": [
    "#Importing libraries\n",
    "\n",
    "import numpy as np\n",
    "import pandas as pd\n",
    "import matplotlib.pyplot as plt\n",
    "import seaborn as sns\n",
    "import warnings\n",
    "warnings.filterwarnings(\"ignore\")"
   ]
  },
  {
   "cell_type": "code",
   "execution_count": 4,
   "id": "edd50018",
   "metadata": {},
   "outputs": [],
   "source": [
    "#Uploading dataset\n",
    "Amazon = pd.read_csv(\"amazon_laptop_prices.csv\")"
   ]
  },
  {
   "cell_type": "code",
   "execution_count": 4,
   "id": "b4b207eb",
   "metadata": {
    "scrolled": true
   },
   "outputs": [
    {
     "data": {
      "text/html": [
       "<div>\n",
       "<style scoped>\n",
       "    .dataframe tbody tr th:only-of-type {\n",
       "        vertical-align: middle;\n",
       "    }\n",
       "\n",
       "    .dataframe tbody tr th {\n",
       "        vertical-align: top;\n",
       "    }\n",
       "\n",
       "    .dataframe thead th {\n",
       "        text-align: right;\n",
       "    }\n",
       "</style>\n",
       "<table border=\"1\" class=\"dataframe\">\n",
       "  <thead>\n",
       "    <tr style=\"text-align: right;\">\n",
       "      <th></th>\n",
       "      <th>brand</th>\n",
       "      <th>model</th>\n",
       "      <th>screen_size</th>\n",
       "      <th>color</th>\n",
       "      <th>harddisk</th>\n",
       "      <th>cpu</th>\n",
       "      <th>ram</th>\n",
       "      <th>OS</th>\n",
       "      <th>special_features</th>\n",
       "      <th>graphics</th>\n",
       "      <th>graphics_coprocessor</th>\n",
       "      <th>cpu_speed</th>\n",
       "      <th>rating</th>\n",
       "      <th>price</th>\n",
       "    </tr>\n",
       "  </thead>\n",
       "  <tbody>\n",
       "    <tr>\n",
       "      <th>0</th>\n",
       "      <td>ROKC</td>\n",
       "      <td>NaN</td>\n",
       "      <td>14 Inches</td>\n",
       "      <td>Blue</td>\n",
       "      <td>1000 GB</td>\n",
       "      <td>Intel Core i7</td>\n",
       "      <td>8 GB</td>\n",
       "      <td>Windows 11</td>\n",
       "      <td>NaN</td>\n",
       "      <td>Integrated</td>\n",
       "      <td>Intel</td>\n",
       "      <td>1.2 GHz</td>\n",
       "      <td>NaN</td>\n",
       "      <td>$589.99</td>\n",
       "    </tr>\n",
       "    <tr>\n",
       "      <th>1</th>\n",
       "      <td>HP</td>\n",
       "      <td>NaN</td>\n",
       "      <td>15.6 Inches</td>\n",
       "      <td>Silver</td>\n",
       "      <td>1000 GB</td>\n",
       "      <td>Intel Core i5</td>\n",
       "      <td>64 GB</td>\n",
       "      <td>Windows 11 Pro</td>\n",
       "      <td>Backlit Keyboard</td>\n",
       "      <td>Integrated</td>\n",
       "      <td>Intel</td>\n",
       "      <td>NaN</td>\n",
       "      <td>4.5</td>\n",
       "      <td>$999.99</td>\n",
       "    </tr>\n",
       "    <tr>\n",
       "      <th>2</th>\n",
       "      <td>MSI</td>\n",
       "      <td>Vector GP66 12UGS-267</td>\n",
       "      <td>15.66 Inches</td>\n",
       "      <td>Core Black</td>\n",
       "      <td>NaN</td>\n",
       "      <td>Intel Core i9</td>\n",
       "      <td>32 GB</td>\n",
       "      <td>Windows 11 Home</td>\n",
       "      <td>NaN</td>\n",
       "      <td>Dedicated</td>\n",
       "      <td>NaN</td>\n",
       "      <td>1.8 GHz</td>\n",
       "      <td>5.0</td>\n",
       "      <td>$1,599.00</td>\n",
       "    </tr>\n",
       "    <tr>\n",
       "      <th>3</th>\n",
       "      <td>Apple</td>\n",
       "      <td>MacBook Air</td>\n",
       "      <td>13.3 Inches</td>\n",
       "      <td>Silver</td>\n",
       "      <td>256 GB</td>\n",
       "      <td>Unknown</td>\n",
       "      <td>8 GB</td>\n",
       "      <td>Mac OS</td>\n",
       "      <td>Backlit Keyboard</td>\n",
       "      <td>Integrated</td>\n",
       "      <td>NaN</td>\n",
       "      <td>NaN</td>\n",
       "      <td>4.8</td>\n",
       "      <td>$689.99</td>\n",
       "    </tr>\n",
       "    <tr>\n",
       "      <th>4</th>\n",
       "      <td>Apple</td>\n",
       "      <td>MacBook Air</td>\n",
       "      <td>15.3 Inches</td>\n",
       "      <td>Midnight</td>\n",
       "      <td>256 GB</td>\n",
       "      <td>Unknown</td>\n",
       "      <td>8 GB</td>\n",
       "      <td>Mac OS</td>\n",
       "      <td>NaN</td>\n",
       "      <td>Integrated</td>\n",
       "      <td>NaN</td>\n",
       "      <td>NaN</td>\n",
       "      <td>4.8</td>\n",
       "      <td>$1,144.48</td>\n",
       "    </tr>\n",
       "  </tbody>\n",
       "</table>\n",
       "</div>"
      ],
      "text/plain": [
       "   brand                  model   screen_size       color harddisk  \\\n",
       "0   ROKC                    NaN     14 Inches        Blue  1000 GB   \n",
       "1     HP                    NaN   15.6 Inches      Silver  1000 GB   \n",
       "2    MSI  Vector GP66 12UGS-267  15.66 Inches  Core Black      NaN   \n",
       "3  Apple            MacBook Air   13.3 Inches      Silver   256 GB   \n",
       "4  Apple            MacBook Air   15.3 Inches    Midnight   256 GB   \n",
       "\n",
       "             cpu    ram               OS  special_features    graphics  \\\n",
       "0  Intel Core i7   8 GB       Windows 11               NaN  Integrated   \n",
       "1  Intel Core i5  64 GB   Windows 11 Pro  Backlit Keyboard  Integrated   \n",
       "2  Intel Core i9  32 GB  Windows 11 Home               NaN   Dedicated   \n",
       "3        Unknown   8 GB           Mac OS  Backlit Keyboard  Integrated   \n",
       "4        Unknown   8 GB           Mac OS               NaN  Integrated   \n",
       "\n",
       "  graphics_coprocessor cpu_speed  rating       price  \n",
       "0                Intel   1.2 GHz     NaN    $589.99   \n",
       "1                Intel       NaN     4.5    $999.99   \n",
       "2                  NaN   1.8 GHz     5.0  $1,599.00   \n",
       "3                  NaN       NaN     4.8    $689.99   \n",
       "4                  NaN       NaN     4.8  $1,144.48   "
      ]
     },
     "execution_count": 4,
     "metadata": {},
     "output_type": "execute_result"
    }
   ],
   "source": [
    "#Checking the first 5 rows\n",
    "Amazon.head()"
   ]
  },
  {
   "cell_type": "code",
   "execution_count": 6,
   "id": "b82bfffb",
   "metadata": {
    "scrolled": true
   },
   "outputs": [
    {
     "data": {
      "text/html": [
       "<div>\n",
       "<style scoped>\n",
       "    .dataframe tbody tr th:only-of-type {\n",
       "        vertical-align: middle;\n",
       "    }\n",
       "\n",
       "    .dataframe tbody tr th {\n",
       "        vertical-align: top;\n",
       "    }\n",
       "\n",
       "    .dataframe thead th {\n",
       "        text-align: right;\n",
       "    }\n",
       "</style>\n",
       "<table border=\"1\" class=\"dataframe\">\n",
       "  <thead>\n",
       "    <tr style=\"text-align: right;\">\n",
       "      <th></th>\n",
       "      <th>brand</th>\n",
       "      <th>model</th>\n",
       "      <th>screen_size</th>\n",
       "      <th>color</th>\n",
       "      <th>harddisk</th>\n",
       "      <th>cpu</th>\n",
       "      <th>ram</th>\n",
       "      <th>OS</th>\n",
       "      <th>special_features</th>\n",
       "      <th>graphics</th>\n",
       "      <th>graphics_coprocessor</th>\n",
       "      <th>cpu_speed</th>\n",
       "      <th>rating</th>\n",
       "      <th>price</th>\n",
       "    </tr>\n",
       "  </thead>\n",
       "  <tbody>\n",
       "    <tr>\n",
       "      <th>4441</th>\n",
       "      <td>MSI</td>\n",
       "      <td>Stealth GS66 12UGS-025</td>\n",
       "      <td>15.6 Inches</td>\n",
       "      <td>Core Black</td>\n",
       "      <td>NaN</td>\n",
       "      <td>Intel Core i9</td>\n",
       "      <td>32 GB</td>\n",
       "      <td>Windows 11 Home</td>\n",
       "      <td>NaN</td>\n",
       "      <td>Dedicated</td>\n",
       "      <td>NVIDIA GeForce RTX 3070</td>\n",
       "      <td>1.8 GHz</td>\n",
       "      <td>1.0</td>\n",
       "      <td>$1,699.00</td>\n",
       "    </tr>\n",
       "    <tr>\n",
       "      <th>4442</th>\n",
       "      <td>ROKC</td>\n",
       "      <td>NaN</td>\n",
       "      <td>14 Inches</td>\n",
       "      <td>Blue</td>\n",
       "      <td>1000 GB</td>\n",
       "      <td>Intel Core i7</td>\n",
       "      <td>8 GB</td>\n",
       "      <td>Windows 11</td>\n",
       "      <td>NaN</td>\n",
       "      <td>Integrated</td>\n",
       "      <td>Intel</td>\n",
       "      <td>1.2 GHz</td>\n",
       "      <td>NaN</td>\n",
       "      <td>$589.99</td>\n",
       "    </tr>\n",
       "    <tr>\n",
       "      <th>4443</th>\n",
       "      <td>Dell</td>\n",
       "      <td>Inspiron 3511 Laptop</td>\n",
       "      <td>15.6 Inches</td>\n",
       "      <td>Black</td>\n",
       "      <td>512 GB</td>\n",
       "      <td>Core i3</td>\n",
       "      <td>8 GB</td>\n",
       "      <td>Windows 10 Home</td>\n",
       "      <td>Wifi &amp; Bluetooth</td>\n",
       "      <td>Integrated</td>\n",
       "      <td>NaN</td>\n",
       "      <td>NaN</td>\n",
       "      <td>NaN</td>\n",
       "      <td>$591.99</td>\n",
       "    </tr>\n",
       "    <tr>\n",
       "      <th>4444</th>\n",
       "      <td>Dell</td>\n",
       "      <td>Latitude 3420 Laptop</td>\n",
       "      <td>14 Inches</td>\n",
       "      <td>NaN</td>\n",
       "      <td>512 GB</td>\n",
       "      <td>Core i5</td>\n",
       "      <td>8 GB</td>\n",
       "      <td>Windows 10 Pro</td>\n",
       "      <td>NaN</td>\n",
       "      <td>Integrated</td>\n",
       "      <td>Intel Integrated Graphics</td>\n",
       "      <td>0.9 GHz</td>\n",
       "      <td>NaN</td>\n",
       "      <td>$1,771.99</td>\n",
       "    </tr>\n",
       "    <tr>\n",
       "      <th>4445</th>\n",
       "      <td>Dell</td>\n",
       "      <td>Latitude 5430 Laptop</td>\n",
       "      <td>14 Inches</td>\n",
       "      <td>Black</td>\n",
       "      <td>256 GB</td>\n",
       "      <td>Core i5</td>\n",
       "      <td>NaN</td>\n",
       "      <td>Windows 11 Pro</td>\n",
       "      <td>NaN</td>\n",
       "      <td>Integrated</td>\n",
       "      <td>Intel Integrated Graphics</td>\n",
       "      <td>3.3 GHz</td>\n",
       "      <td>NaN</td>\n",
       "      <td>$938.99</td>\n",
       "    </tr>\n",
       "  </tbody>\n",
       "</table>\n",
       "</div>"
      ],
      "text/plain": [
       "     brand                   model  screen_size       color harddisk  \\\n",
       "4441   MSI  Stealth GS66 12UGS-025  15.6 Inches  Core Black      NaN   \n",
       "4442  ROKC                     NaN    14 Inches        Blue  1000 GB   \n",
       "4443  Dell    Inspiron 3511 Laptop  15.6 Inches       Black   512 GB   \n",
       "4444  Dell    Latitude 3420 Laptop    14 Inches         NaN   512 GB   \n",
       "4445  Dell    Latitude 5430 Laptop    14 Inches       Black   256 GB   \n",
       "\n",
       "                cpu    ram               OS  special_features    graphics  \\\n",
       "4441  Intel Core i9  32 GB  Windows 11 Home               NaN   Dedicated   \n",
       "4442  Intel Core i7   8 GB       Windows 11               NaN  Integrated   \n",
       "4443        Core i3   8 GB  Windows 10 Home  Wifi & Bluetooth  Integrated   \n",
       "4444        Core i5   8 GB   Windows 10 Pro               NaN  Integrated   \n",
       "4445        Core i5    NaN   Windows 11 Pro               NaN  Integrated   \n",
       "\n",
       "           graphics_coprocessor cpu_speed  rating       price  \n",
       "4441    NVIDIA GeForce RTX 3070   1.8 GHz     1.0  $1,699.00   \n",
       "4442                      Intel   1.2 GHz     NaN    $589.99   \n",
       "4443                        NaN       NaN     NaN    $591.99   \n",
       "4444  Intel Integrated Graphics   0.9 GHz     NaN  $1,771.99   \n",
       "4445  Intel Integrated Graphics   3.3 GHz     NaN    $938.99   "
      ]
     },
     "execution_count": 6,
     "metadata": {},
     "output_type": "execute_result"
    }
   ],
   "source": [
    "#Checking the last 5 rows\n",
    "Amazon.tail()"
   ]
  },
  {
   "cell_type": "code",
   "execution_count": 7,
   "id": "bb667945",
   "metadata": {
    "scrolled": true
   },
   "outputs": [
    {
     "name": "stdout",
     "output_type": "stream",
     "text": [
      "<class 'pandas.core.frame.DataFrame'>\n",
      "RangeIndex: 4446 entries, 0 to 4445\n",
      "Data columns (total 14 columns):\n",
      " #   Column                Non-Null Count  Dtype  \n",
      "---  ------                --------------  -----  \n",
      " 0   brand                 4446 non-null   object \n",
      " 1   model                 3282 non-null   object \n",
      " 2   screen_size           4417 non-null   object \n",
      " 3   color                 3867 non-null   object \n",
      " 4   harddisk              3870 non-null   object \n",
      " 5   cpu                   4346 non-null   object \n",
      " 6   ram                   4385 non-null   object \n",
      " 7   OS                    4420 non-null   object \n",
      " 8   special_features      2054 non-null   object \n",
      " 9   graphics              4381 non-null   object \n",
      " 10  graphics_coprocessor  2574 non-null   object \n",
      " 11  cpu_speed             1520 non-null   object \n",
      " 12  rating                2174 non-null   float64\n",
      " 13  price                 4441 non-null   object \n",
      "dtypes: float64(1), object(13)\n",
      "memory usage: 486.4+ KB\n"
     ]
    }
   ],
   "source": [
    "#Exploring the data\n",
    "Amazon.info()"
   ]
  },
  {
   "cell_type": "code",
   "execution_count": 9,
   "id": "d98cf768",
   "metadata": {
    "scrolled": false
   },
   "outputs": [
    {
     "data": {
      "text/plain": [
       "brand                      0\n",
       "model                   1164\n",
       "screen_size               29\n",
       "color                    579\n",
       "harddisk                 576\n",
       "cpu                      100\n",
       "ram                       61\n",
       "OS                        26\n",
       "special_features        2392\n",
       "graphics                  65\n",
       "graphics_coprocessor    1872\n",
       "cpu_speed               2926\n",
       "rating                  2272\n",
       "price                      5\n",
       "dtype: int64"
      ]
     },
     "execution_count": 9,
     "metadata": {},
     "output_type": "execute_result"
    }
   ],
   "source": [
    "Amazon.isnull().sum()"
   ]
  },
  {
   "cell_type": "markdown",
   "id": "36d08f2b",
   "metadata": {},
   "source": [
    "## Data Cleaning"
   ]
  },
  {
   "cell_type": "code",
   "execution_count": 10,
   "id": "64d2cbe7",
   "metadata": {
    "scrolled": false
   },
   "outputs": [
    {
     "data": {
      "text/plain": [
       "0          14 Inches\n",
       "1        15.6 Inches\n",
       "2       15.66 Inches\n",
       "3        13.3 Inches\n",
       "4        15.3 Inches\n",
       "            ...     \n",
       "4441     15.6 Inches\n",
       "4442       14 Inches\n",
       "4443     15.6 Inches\n",
       "4444       14 Inches\n",
       "4445       14 Inches\n",
       "Name: screen_size, Length: 4446, dtype: object"
      ]
     },
     "execution_count": 10,
     "metadata": {},
     "output_type": "execute_result"
    }
   ],
   "source": [
    "# Convert screen size to numeric type\n",
    "Amazon.screen_size"
   ]
  },
  {
   "cell_type": "code",
   "execution_count": 11,
   "id": "9857c72d",
   "metadata": {
    "scrolled": true
   },
   "outputs": [
    {
     "data": {
      "text/plain": [
       "15.6 Inches     1995\n",
       "14 Inches       1113\n",
       "16 Inches        362\n",
       "15.66 Inches     196\n",
       "13.3 Inches      194\n",
       "17.3 Inches      150\n",
       "17 Inches         89\n",
       "11.6 Inches       84\n",
       "13.4 Inches       43\n",
       "18 Inches         41\n",
       "13 Inches         36\n",
       "15 Inches         25\n",
       "13.5 Inches       11\n",
       "12.5 Inches       10\n",
       "14.1 Inches        9\n",
       "12 Inches          7\n",
       "10.1 Inches        7\n",
       "13.1 Inches        6\n",
       "16.1 Inches        5\n",
       "14.5 Inches        4\n",
       "16.2 Inches        4\n",
       "13.6 Inches        4\n",
       "15.4 Inches        3\n",
       "12.3 Inches        3\n",
       "13.9 Inches        3\n",
       "11 Inches          2\n",
       "12.4 Inches        2\n",
       "12.45 Inches       2\n",
       "10.5 Inches        1\n",
       "12.2 Inches        1\n",
       "14.4 Inches        1\n",
       "15.3 Inches        1\n",
       "22 Inches          1\n",
       "27 Inches          1\n",
       "10 Inches          1\n",
       "Name: screen_size, dtype: int64"
      ]
     },
     "execution_count": 11,
     "metadata": {},
     "output_type": "execute_result"
    }
   ],
   "source": [
    "Amazon.screen_size.value_counts()"
   ]
  },
  {
   "cell_type": "code",
   "execution_count": 12,
   "id": "4aa1a921",
   "metadata": {
    "scrolled": true
   },
   "outputs": [
    {
     "data": {
      "text/plain": [
       "0          14\n",
       "1        15.6\n",
       "2       15.66\n",
       "3        13.3\n",
       "4        15.3\n",
       "        ...  \n",
       "4441     15.6\n",
       "4442       14\n",
       "4443     15.6\n",
       "4444       14\n",
       "4445       14\n",
       "Name: screen_size, Length: 4446, dtype: object"
      ]
     },
     "execution_count": 12,
     "metadata": {},
     "output_type": "execute_result"
    }
   ],
   "source": [
    "Amazon.screen_size.replace(\" Inches\",\"\", inplace=True, regex=True)\n",
    "Amazon.screen_size"
   ]
  },
  {
   "cell_type": "code",
   "execution_count": 14,
   "id": "aef86df9",
   "metadata": {
    "scrolled": true
   },
   "outputs": [
    {
     "data": {
      "text/plain": [
       "0       14.00\n",
       "1       15.60\n",
       "2       15.66\n",
       "3       13.30\n",
       "4       15.30\n",
       "        ...  \n",
       "4441    15.60\n",
       "4442    14.00\n",
       "4443    15.60\n",
       "4444    14.00\n",
       "4445    14.00\n",
       "Name: screen_size, Length: 4446, dtype: float64"
      ]
     },
     "execution_count": 14,
     "metadata": {},
     "output_type": "execute_result"
    }
   ],
   "source": [
    "Amazon.screen_size = pd.to_numeric(Amazon.screen_size)\n",
    "Amazon.screen_size"
   ]
  },
  {
   "cell_type": "code",
   "execution_count": 15,
   "id": "35c019a6",
   "metadata": {},
   "outputs": [
    {
     "data": {
      "text/plain": [
       "29"
      ]
     },
     "execution_count": 15,
     "metadata": {},
     "output_type": "execute_result"
    }
   ],
   "source": [
    "Amazon.screen_size.isnull().sum()"
   ]
  },
  {
   "cell_type": "markdown",
   "id": "b60bfe54",
   "metadata": {},
   "source": [
    "## Convert harddisk to numeric value"
   ]
  },
  {
   "cell_type": "code",
   "execution_count": 16,
   "id": "ccf2b530",
   "metadata": {
    "scrolled": true
   },
   "outputs": [
    {
     "data": {
      "text/plain": [
       "0       1000 GB\n",
       "1       1000 GB\n",
       "2           NaN\n",
       "3        256 GB\n",
       "4        256 GB\n",
       "         ...   \n",
       "4441        NaN\n",
       "4442    1000 GB\n",
       "4443     512 GB\n",
       "4444     512 GB\n",
       "4445     256 GB\n",
       "Name: harddisk, Length: 4446, dtype: object"
      ]
     },
     "execution_count": 16,
     "metadata": {},
     "output_type": "execute_result"
    }
   ],
   "source": [
    "Amazon.harddisk"
   ]
  },
  {
   "cell_type": "code",
   "execution_count": 17,
   "id": "80845935",
   "metadata": {
    "scrolled": true
   },
   "outputs": [
    {
     "data": {
      "text/plain": [
       "1000 GB    1334\n",
       "512 GB      747\n",
       "256 GB      476\n",
       "1 TB        315\n",
       "64 GB       194\n",
       "1152 GB     177\n",
       "2000 GB     165\n",
       "2 TB        124\n",
       "128 GB      114\n",
       "32 GB        48\n",
       "4000 GB      47\n",
       "500 GB       34\n",
       "4 TB         26\n",
       "8000 GB      18\n",
       "320 GB        8\n",
       "16 GB         8\n",
       "160 GB        4\n",
       "6000 GB       3\n",
       "480 GB        2\n",
       "240 GB        2\n",
       "8 GB          2\n",
       "8 TB          2\n",
       "1024 GB       2\n",
       "2048 GB       1\n",
       "1512 GB       1\n",
       "640 GB        1\n",
       "512 MB        1\n",
       "1.5 TB        1\n",
       "256           1\n",
       "1.92 TB       1\n",
       "32 MB         1\n",
       "1256 GB       1\n",
       "64 MB         1\n",
       "250 GB        1\n",
       "128 MB        1\n",
       "512           1\n",
       "300 GB        1\n",
       "120 GB        1\n",
       "65 GB         1\n",
       "64            1\n",
       "3 TB          1\n",
       "Name: harddisk, dtype: int64"
      ]
     },
     "execution_count": 17,
     "metadata": {},
     "output_type": "execute_result"
    }
   ],
   "source": [
    "Amazon.harddisk.value_counts()"
   ]
  },
  {
   "cell_type": "code",
   "execution_count": 18,
   "id": "a041c0a8",
   "metadata": {
    "scrolled": true
   },
   "outputs": [
    {
     "data": {
      "text/plain": [
       "1000       1334\n",
       "512         749\n",
       "256         477\n",
       "1 TB        315\n",
       "64          196\n",
       "1152        177\n",
       "2000        165\n",
       "2 TB        124\n",
       "128         115\n",
       "32           49\n",
       "4000         47\n",
       "500          34\n",
       "4 TB         26\n",
       "8000         18\n",
       "16            8\n",
       "320           8\n",
       "160           4\n",
       "6000          3\n",
       "8 TB          2\n",
       "8             2\n",
       "480           2\n",
       "1024          2\n",
       "240           2\n",
       "1.92 TB       1\n",
       "2048          1\n",
       "640           1\n",
       "1.5 TB        1\n",
       "250           1\n",
       "1512          1\n",
       "1256          1\n",
       "300           1\n",
       "120           1\n",
       "65            1\n",
       "3 TB          1\n",
       "Name: harddisk, dtype: int64"
      ]
     },
     "execution_count": 18,
     "metadata": {},
     "output_type": "execute_result"
    }
   ],
   "source": [
    "Amazon.harddisk.replace(\" GB\",\"\", inplace=True, regex=True)\n",
    "# har dist is MBs seems to me mistaken, we assume it was also in GBs\n",
    "Amazon.harddisk.replace(\" MB\",\"\", inplace=True, regex=True)\n",
    "Amazon.harddisk.value_counts()"
   ]
  },
  {
   "cell_type": "code",
   "execution_count": 19,
   "id": "7a06aff6",
   "metadata": {
    "scrolled": true
   },
   "outputs": [
    {
     "data": {
      "text/plain": [
       "1000       1649\n",
       "512         749\n",
       "256         477\n",
       "2000        289\n",
       "64          196\n",
       "1152        177\n",
       "128         115\n",
       "4000         73\n",
       "32           49\n",
       "500          34\n",
       "8000         20\n",
       "320           8\n",
       "16            8\n",
       "160           4\n",
       "6000          3\n",
       "480           2\n",
       "240           2\n",
       "8             2\n",
       "1024          2\n",
       "1.92000       1\n",
       "2048          1\n",
       "640           1\n",
       "1.5000        1\n",
       "120           1\n",
       "1512          1\n",
       "1256          1\n",
       "250           1\n",
       "65            1\n",
       "300           1\n",
       "3000          1\n",
       "Name: harddisk, dtype: int64"
      ]
     },
     "execution_count": 19,
     "metadata": {},
     "output_type": "execute_result"
    }
   ],
   "source": [
    "Amazon.harddisk.replace(\" TB\",\"000\", inplace=True, regex=True)\n",
    "Amazon.harddisk.value_counts()"
   ]
  },
  {
   "cell_type": "code",
   "execution_count": 20,
   "id": "afc8a391",
   "metadata": {
    "scrolled": true
   },
   "outputs": [
    {
     "data": {
      "text/plain": [
       "1000    1649\n",
       "512      749\n",
       "256      477\n",
       "2000     289\n",
       "64       196\n",
       "1152     177\n",
       "128      115\n",
       "4000      73\n",
       "32        49\n",
       "500       34\n",
       "8000      20\n",
       "320        8\n",
       "16         8\n",
       "160        4\n",
       "6000       3\n",
       "480        2\n",
       "240        2\n",
       "8          2\n",
       "1024       2\n",
       "1920       1\n",
       "2048       1\n",
       "640        1\n",
       "1500       1\n",
       "120        1\n",
       "1512       1\n",
       "1256       1\n",
       "250        1\n",
       "65         1\n",
       "300        1\n",
       "3000       1\n",
       "Name: harddisk, dtype: int64"
      ]
     },
     "execution_count": 20,
     "metadata": {},
     "output_type": "execute_result"
    }
   ],
   "source": [
    "# correct two strings in decimel\n",
    "Amazon.harddisk.replace(\"1.92000\",\"1920\", inplace=True, regex=True)\n",
    "Amazon.harddisk.replace(\"1.5000\",\"1500\", inplace=True, regex=True)\n",
    "Amazon.harddisk.value_counts()"
   ]
  },
  {
   "cell_type": "code",
   "execution_count": 21,
   "id": "42d6edd8",
   "metadata": {
    "scrolled": false
   },
   "outputs": [
    {
     "data": {
      "text/plain": [
       "0       1000.0\n",
       "1       1000.0\n",
       "2          NaN\n",
       "3        256.0\n",
       "4        256.0\n",
       "         ...  \n",
       "4441       NaN\n",
       "4442    1000.0\n",
       "4443     512.0\n",
       "4444     512.0\n",
       "4445     256.0\n",
       "Name: harddisk, Length: 4446, dtype: float64"
      ]
     },
     "execution_count": 21,
     "metadata": {},
     "output_type": "execute_result"
    }
   ],
   "source": [
    "# convert to harddisk datatype to float type\n",
    "Amazon.harddisk = pd.to_numeric(Amazon.harddisk)\n",
    "Amazon.harddisk"
   ]
  },
  {
   "cell_type": "markdown",
   "id": "ada8f95e",
   "metadata": {},
   "source": [
    "## Convert RAM to numeric value"
   ]
  },
  {
   "cell_type": "code",
   "execution_count": 22,
   "id": "4ccb9ffc",
   "metadata": {
    "scrolled": true
   },
   "outputs": [
    {
     "data": {
      "text/plain": [
       "0        8 GB\n",
       "1       64 GB\n",
       "2       32 GB\n",
       "3        8 GB\n",
       "4        8 GB\n",
       "        ...  \n",
       "4441    32 GB\n",
       "4442     8 GB\n",
       "4443     8 GB\n",
       "4444     8 GB\n",
       "4445      NaN\n",
       "Name: ram, Length: 4446, dtype: object"
      ]
     },
     "execution_count": 22,
     "metadata": {},
     "output_type": "execute_result"
    }
   ],
   "source": [
    "Amazon.ram"
   ]
  },
  {
   "cell_type": "code",
   "execution_count": 24,
   "id": "646136c0",
   "metadata": {},
   "outputs": [
    {
     "data": {
      "text/plain": [
       "16 GB       1344\n",
       "32 GB       1092\n",
       "8 GB         791\n",
       "64 GB        502\n",
       "20 GB        331\n",
       "4 GB         216\n",
       "12 GB         40\n",
       "24 GB         21\n",
       "40 GB         13\n",
       "48 GB         12\n",
       "2 GB           9\n",
       "1 GB           4\n",
       "128 GB         3\n",
       "6 GB           3\n",
       "64 MB          1\n",
       "5 GB           1\n",
       "96 GB          1\n",
       "31.99 GB       1\n",
       "Name: ram, dtype: int64"
      ]
     },
     "execution_count": 24,
     "metadata": {},
     "output_type": "execute_result"
    }
   ],
   "source": [
    "Amazon.ram.value_counts()"
   ]
  },
  {
   "cell_type": "code",
   "execution_count": 25,
   "id": "a43b54df",
   "metadata": {
    "scrolled": true
   },
   "outputs": [
    {
     "data": {
      "text/plain": [
       "16       1344\n",
       "32       1092\n",
       "8         791\n",
       "64        503\n",
       "20        331\n",
       "4         216\n",
       "12         40\n",
       "24         21\n",
       "40         13\n",
       "48         12\n",
       "2           9\n",
       "1           4\n",
       "128         3\n",
       "6           3\n",
       "96          1\n",
       "5           1\n",
       "31.99       1\n",
       "Name: ram, dtype: int64"
      ]
     },
     "execution_count": 25,
     "metadata": {},
     "output_type": "execute_result"
    }
   ],
   "source": [
    "Amazon.ram.replace(\" GB\",\"\", inplace=True, regex=True)\n",
    "Amazon.ram.replace(\" MB\",\"\", inplace=True, regex=True) # seems mistake, assume its in GB\n",
    "Amazon.ram.value_counts()"
   ]
  },
  {
   "cell_type": "code",
   "execution_count": 26,
   "id": "4a734260",
   "metadata": {
    "scrolled": true
   },
   "outputs": [
    {
     "data": {
      "text/plain": [
       "0        8.0\n",
       "1       64.0\n",
       "2       32.0\n",
       "3        8.0\n",
       "4        8.0\n",
       "        ... \n",
       "4441    32.0\n",
       "4442     8.0\n",
       "4443     8.0\n",
       "4444     8.0\n",
       "4445     NaN\n",
       "Name: ram, Length: 4446, dtype: float64"
      ]
     },
     "execution_count": 26,
     "metadata": {},
     "output_type": "execute_result"
    }
   ],
   "source": [
    "# convert to ram dataype to float type\n",
    "Amazon.ram = pd.to_numeric(Amazon.ram)\n",
    "Amazon.ram"
   ]
  },
  {
   "cell_type": "markdown",
   "id": "19e0d6f7",
   "metadata": {},
   "source": [
    "## Convert cpu speed to numeric value"
   ]
  },
  {
   "cell_type": "code",
   "execution_count": 27,
   "id": "3e786edb",
   "metadata": {
    "scrolled": true
   },
   "outputs": [
    {
     "data": {
      "text/plain": [
       "0       1.2 GHz\n",
       "1           NaN\n",
       "2       1.8 GHz\n",
       "3           NaN\n",
       "4           NaN\n",
       "         ...   \n",
       "4441    1.8 GHz\n",
       "4442    1.2 GHz\n",
       "4443        NaN\n",
       "4444    0.9 GHz\n",
       "4445    3.3 GHz\n",
       "Name: cpu_speed, Length: 4446, dtype: object"
      ]
     },
     "execution_count": 27,
     "metadata": {},
     "output_type": "execute_result"
    }
   ],
   "source": [
    "Amazon.cpu_speed"
   ]
  },
  {
   "cell_type": "code",
   "execution_count": 28,
   "id": "98bd06c7",
   "metadata": {
    "scrolled": true
   },
   "outputs": [
    {
     "data": {
      "text/plain": [
       "1.1 GHz         509\n",
       "1.8 GHz         410\n",
       "1.2 GHz         312\n",
       "2.6 GHz          31\n",
       "2.4 GHz          24\n",
       "1.7 GHz          17\n",
       "1 GHz            12\n",
       "2.8 GHz          12\n",
       "2.3 GHz          11\n",
       "5 GHz            11\n",
       "3.5 GHz          11\n",
       "3 GHz            10\n",
       "2 GHz             9\n",
       "2.2 GHz           8\n",
       "4.5 GHz           7\n",
       "3.4 GHz           7\n",
       "1.6 GHz           7\n",
       "4.6 GHz           6\n",
       "2.7 GHz           6\n",
       "3.7 GHz           6\n",
       "4.2 GHz           6\n",
       "2.1 GHz           6\n",
       "2.5 GHz           6\n",
       "4.7 GHz           6\n",
       "1.9 GHz           5\n",
       "4.8 GHz           5\n",
       "3.6 GHz           5\n",
       "2.9 GHz           4\n",
       "1.3 GHz           4\n",
       "5.6 GHz           3\n",
       "3.8 GHz           3\n",
       "4.4 GHz           3\n",
       "4 GHz             2\n",
       "3.2 GHz           2\n",
       "3.9 GHz           2\n",
       "3.4               2\n",
       "2.53 GHz          2\n",
       "3.3 GHz           2\n",
       "5.1 GHz           2\n",
       "4.3 GHz           2\n",
       "3.3               2\n",
       "4.1 GHz           2\n",
       "5.2 GHz           1\n",
       "2 Hz              1\n",
       "3.1 GHz           1\n",
       "1.9               1\n",
       "2.5, 3.1 GHz      1\n",
       "3200 Hz           1\n",
       "2.2, 3.9 GHz      1\n",
       "2133 MHz          1\n",
       "4.7               1\n",
       "1.8               1\n",
       "9120 GHz          1\n",
       "2.4               1\n",
       "2.66 GHz          1\n",
       "2.6               1\n",
       "1.4 GHz           1\n",
       "1.5 GHz           1\n",
       "3.49 GHz          1\n",
       "0.9 GHz           1\n",
       "Name: cpu_speed, dtype: int64"
      ]
     },
     "execution_count": 28,
     "metadata": {},
     "output_type": "execute_result"
    }
   ],
   "source": [
    "Amazon.cpu_speed.value_counts()"
   ]
  },
  {
   "cell_type": "code",
   "execution_count": 29,
   "id": "aa0e2425",
   "metadata": {
    "scrolled": true
   },
   "outputs": [
    {
     "data": {
      "text/plain": [
       "1.1         509\n",
       "1.8         411\n",
       "1.2         312\n",
       "2.6          32\n",
       "2.4          25\n",
       "1.7          17\n",
       "1            12\n",
       "2.8          12\n",
       "5            11\n",
       "2.3          11\n",
       "3.5          11\n",
       "3            10\n",
       "2            10\n",
       "3.4           9\n",
       "2.2           8\n",
       "4.7           7\n",
       "2.1           7\n",
       "1.6           7\n",
       "4.5           7\n",
       "1.9           6\n",
       "4.6           6\n",
       "3.7           6\n",
       "2.7           6\n",
       "4.2           6\n",
       "2.5           6\n",
       "4.8           5\n",
       "3.6           5\n",
       "2.9           4\n",
       "1.3           4\n",
       "3.3           4\n",
       "4.4           3\n",
       "3.8           3\n",
       "3.2           3\n",
       "5.6           3\n",
       "5.1           2\n",
       "4             2\n",
       "2.53          2\n",
       "4.1           2\n",
       "4.3           2\n",
       "3.9           2\n",
       "3.49          1\n",
       "1.5           1\n",
       "2.66          1\n",
       "1.4           1\n",
       "5.2           1\n",
       "9120          1\n",
       "2.2, 3.9      1\n",
       "2.5, 3.1      1\n",
       "3.1           1\n",
       "0.9           1\n",
       "Name: cpu_speed, dtype: int64"
      ]
     },
     "execution_count": 29,
     "metadata": {},
     "output_type": "execute_result"
    }
   ],
   "source": [
    "Amazon.cpu_speed.replace(\" GHz\",\"\", inplace=True, regex=True)\n",
    "Amazon.cpu_speed.replace(\"2133 MHz\",\"2.1\", inplace=True, regex=True)\n",
    "Amazon.cpu_speed.replace(\"3200 Hz\",\"3.2\", inplace=True, regex=True)\n",
    "Amazon.cpu_speed.replace(\" Hz\",\"\", inplace=True, regex=True) # 2Hz seems mistake, assume its in GHz\n",
    "Amazon.cpu_speed.value_counts()"
   ]
  },
  {
   "cell_type": "code",
   "execution_count": 30,
   "id": "3b705a98",
   "metadata": {
    "scrolled": true
   },
   "outputs": [
    {
     "data": {
      "text/plain": [
       "1.1     509\n",
       "1.8     411\n",
       "1.2     312\n",
       "2.6      32\n",
       "2.4      25\n",
       "1.7      17\n",
       "2.8      13\n",
       "1        12\n",
       "3.5      11\n",
       "2.3      11\n",
       "5        11\n",
       "2        10\n",
       "3        10\n",
       "3.4       9\n",
       "2.2       8\n",
       "4.7       7\n",
       "1.6       7\n",
       "2.1       7\n",
       "4.5       7\n",
       "1.9       6\n",
       "4.2       6\n",
       "4.6       6\n",
       "2.7       6\n",
       "2.5       6\n",
       "3.7       6\n",
       "3.6       5\n",
       "4.8       5\n",
       "1.3       4\n",
       "3.3       4\n",
       "2.9       4\n",
       "5.6       3\n",
       "3.2       3\n",
       "4.4       3\n",
       "3.8       3\n",
       "2.53      2\n",
       "4         2\n",
       "4.1       2\n",
       "4.3       2\n",
       "3.1       2\n",
       "5.1       2\n",
       "3.9       2\n",
       "9.1       1\n",
       "2.66      1\n",
       "1.4       1\n",
       "1.5       1\n",
       "3.49      1\n",
       "5.2       1\n",
       "0.9       1\n",
       "Name: cpu_speed, dtype: int64"
      ]
     },
     "execution_count": 30,
     "metadata": {},
     "output_type": "execute_result"
    }
   ],
   "source": [
    "Amazon.cpu_speed.replace(\"9120\",\"9.1\", inplace=True, regex=True) # seems mistake\n",
    "Amazon.cpu_speed.replace(\"2.2, 3.9\",\"3.1\", inplace=True, regex=True) # Average\n",
    "Amazon.cpu_speed.replace(\"2.5, 3.1\",\"2.8\", inplace=True, regex=True) # Average\n",
    "Amazon.cpu_speed.value_counts()"
   ]
  },
  {
   "cell_type": "code",
   "execution_count": 32,
   "id": "5c22b2fa",
   "metadata": {
    "scrolled": true
   },
   "outputs": [
    {
     "data": {
      "text/plain": [
       "0       1.2\n",
       "1       NaN\n",
       "2       1.8\n",
       "3       NaN\n",
       "4       NaN\n",
       "       ... \n",
       "4441    1.8\n",
       "4442    1.2\n",
       "4443    NaN\n",
       "4444    0.9\n",
       "4445    3.3\n",
       "Name: cpu_speed, Length: 4446, dtype: float64"
      ]
     },
     "execution_count": 32,
     "metadata": {},
     "output_type": "execute_result"
    }
   ],
   "source": [
    "# convert to float type\n",
    "Amazon.cpu_speed = pd.to_numeric(Amazon.cpu_speed)\n",
    "Amazon.cpu_speed"
   ]
  },
  {
   "cell_type": "markdown",
   "id": "f22a75eb",
   "metadata": {},
   "source": [
    "## Convert Price to numeric value"
   ]
  },
  {
   "cell_type": "code",
   "execution_count": 33,
   "id": "f1c88d34",
   "metadata": {
    "scrolled": true
   },
   "outputs": [
    {
     "name": "stdout",
     "output_type": "stream",
     "text": [
      "0         $589.99 \n",
      "1         $999.99 \n",
      "2       $1,599.00 \n",
      "3         $689.99 \n",
      "4       $1,144.48 \n",
      "           ...    \n",
      "4441    $1,699.00 \n",
      "4442      $589.99 \n",
      "4443      $591.99 \n",
      "4444    $1,771.99 \n",
      "4445      $938.99 \n",
      "Name: price, Length: 4446, dtype: object\n",
      "Null values of price are:  5\n"
     ]
    }
   ],
   "source": [
    "print(Amazon.price)\n",
    "print ('Null values of price are: ', Amazon.price.isnull().sum())"
   ]
  },
  {
   "cell_type": "code",
   "execution_count": 34,
   "id": "232aa86c",
   "metadata": {
    "scrolled": true
   },
   "outputs": [
    {
     "data": {
      "text/plain": [
       "$389.99       315\n",
       "$589.99       310\n",
       "$999.99       252\n",
       "$1,599.00     210\n",
       "$1,699.00     204\n",
       "             ... \n",
       "$2,629.98       1\n",
       "$1,659.67       1\n",
       "$245.01         1\n",
       "$2,951.99       1\n",
       "$938.99         1\n",
       "Name: price, Length: 1858, dtype: int64"
      ]
     },
     "execution_count": 34,
     "metadata": {},
     "output_type": "execute_result"
    }
   ],
   "source": [
    "Amazon.price.value_counts()"
   ]
  },
  {
   "cell_type": "code",
   "execution_count": 5,
   "id": "1cdfc7c2",
   "metadata": {
    "scrolled": true
   },
   "outputs": [
    {
     "data": {
      "text/plain": [
       "389.99      315\n",
       "589.99      310\n",
       "999.99      252\n",
       "1599.00     210\n",
       "1699.00     204\n",
       "           ... \n",
       "2629.98       1\n",
       "1659.67       1\n",
       "245.01        1\n",
       "2951.99       1\n",
       "938.99        1\n",
       "Name: price, Length: 1858, dtype: int64"
      ]
     },
     "execution_count": 5,
     "metadata": {},
     "output_type": "execute_result"
    }
   ],
   "source": [
    "Amazon.price = Amazon.price.str.replace('$', '')\n",
    "Amazon.price = Amazon.price.str.replace(',', '')\n",
    "Amazon.price.value_counts()"
   ]
  },
  {
   "cell_type": "code",
   "execution_count": 37,
   "id": "50579e32",
   "metadata": {
    "scrolled": true
   },
   "outputs": [
    {
     "data": {
      "text/plain": [
       "0        589.99\n",
       "1        999.99\n",
       "2       1599.00\n",
       "3        689.99\n",
       "4       1144.48\n",
       "         ...   \n",
       "4441    1699.00\n",
       "4442     589.99\n",
       "4443     591.99\n",
       "4444    1771.99\n",
       "4445     938.99\n",
       "Name: price, Length: 4446, dtype: float64"
      ]
     },
     "execution_count": 37,
     "metadata": {},
     "output_type": "execute_result"
    }
   ],
   "source": [
    "Amazon.price = pd.to_numeric(Amazon.price)\n",
    "Amazon.price"
   ]
  },
  {
   "cell_type": "code",
   "execution_count": 38,
   "id": "dbb17a8e",
   "metadata": {
    "scrolled": true
   },
   "outputs": [
    {
     "name": "stdout",
     "output_type": "stream",
     "text": [
      "<class 'pandas.core.frame.DataFrame'>\n",
      "RangeIndex: 4446 entries, 0 to 4445\n",
      "Data columns (total 14 columns):\n",
      " #   Column                Non-Null Count  Dtype  \n",
      "---  ------                --------------  -----  \n",
      " 0   brand                 4446 non-null   object \n",
      " 1   model                 3282 non-null   object \n",
      " 2   screen_size           4417 non-null   float64\n",
      " 3   color                 3867 non-null   object \n",
      " 4   harddisk              3870 non-null   float64\n",
      " 5   cpu                   4346 non-null   object \n",
      " 6   ram                   4385 non-null   float64\n",
      " 7   OS                    4420 non-null   object \n",
      " 8   special_features      2054 non-null   object \n",
      " 9   graphics              4381 non-null   object \n",
      " 10  graphics_coprocessor  2574 non-null   object \n",
      " 11  cpu_speed             1520 non-null   float64\n",
      " 12  rating                2174 non-null   float64\n",
      " 13  price                 4441 non-null   float64\n",
      "dtypes: float64(6), object(8)\n",
      "memory usage: 486.4+ KB\n"
     ]
    }
   ],
   "source": [
    "Amazon.info()"
   ]
  },
  {
   "cell_type": "code",
   "execution_count": 39,
   "id": "33e1545e",
   "metadata": {
    "scrolled": true
   },
   "outputs": [
    {
     "name": "stdout",
     "output_type": "stream",
     "text": [
      "Total unique Brands:  50\n"
     ]
    },
    {
     "data": {
      "text/plain": [
       "Dell                             1581\n",
       "HP                                804\n",
       "ROKC                              637\n",
       "MSI                               473\n",
       "Lenovo                            308\n",
       "ASUS                              160\n",
       "DELL                              147\n",
       "acer                              108\n",
       "LG                                 39\n",
       "Apple                              29\n",
       "SAMSUNG                            23\n",
       "Microsoft                          15\n",
       "Alienware                          14\n",
       "Panasonic                          12\n",
       "Acer                               11\n",
       "Gigabyte                           11\n",
       "Toughbook                          11\n",
       "hp                                  6\n",
       "Razer                               6\n",
       "LENOVO                              6\n",
       "lenovo                              4\n",
       "Latitude                            3\n",
       "Luqeeg                              3\n",
       "SHOXLAB                             2\n",
       "CTL                                 2\n",
       "Computer Upgrade King               2\n",
       "dell                                2\n",
       "IVIEW                               2\n",
       "Quality Refurbished Computers       2\n",
       "Asus                                2\n",
       "Gateway                             2\n",
       "Elo                                 1\n",
       "Mytrix                              1\n",
       "JTD                                 1\n",
       "XAMMUE                              1\n",
       "asus                                1\n",
       "Tocosy                              1\n",
       "MAINGEAR                            1\n",
       "GizPro                              1\n",
       "Carlisle FoodService Products       1\n",
       "MICROTELLA                          1\n",
       "XPG                                 1\n",
       "VAIO                                1\n",
       "ONN                                 1\n",
       "Corsair                             1\n",
       "Goldengulf                          1\n",
       "LPT                                 1\n",
       "Best Notebooks                      1\n",
       "AWOW                                1\n",
       "TOPOSH                              1\n",
       "Name: brand, dtype: int64"
      ]
     },
     "execution_count": 39,
     "metadata": {},
     "output_type": "execute_result"
    }
   ],
   "source": [
    "print('Total unique Brands: ', len(Amazon.brand.value_counts()))\n",
    "Amazon.brand.value_counts()"
   ]
  },
  {
   "cell_type": "markdown",
   "id": "0a1e1ea2",
   "metadata": {},
   "source": [
    "## There are some inconsistencies in brand names, some names are repeating with uppercase and lowercase charachers"
   ]
  },
  {
   "cell_type": "code",
   "execution_count": 40,
   "id": "1358c44a",
   "metadata": {
    "scrolled": true
   },
   "outputs": [
    {
     "data": {
      "text/plain": [
       "array(['ASUS', 'AWOW', 'Acer', 'Alienware', 'Apple', 'Asus',\n",
       "       'Best Notebooks', 'CTL', 'Carlisle FoodService Products',\n",
       "       'Computer Upgrade King', 'Corsair', 'DELL', 'Dell', 'Elo',\n",
       "       'Gateway', 'Gigabyte', 'GizPro', 'Goldengulf', 'HP', 'IVIEW',\n",
       "       'JTD', 'LENOVO', 'LG', 'LPT', 'Latitude', 'Lenovo', 'Luqeeg',\n",
       "       'MAINGEAR', 'MICROTELLA', 'MSI', 'Microsoft', 'Mytrix', 'ONN',\n",
       "       'Panasonic', 'Quality Refurbished Computers', 'ROKC', 'Razer',\n",
       "       'SAMSUNG', 'SHOXLAB', 'TOPOSH', 'Tocosy', 'Toughbook', 'VAIO',\n",
       "       'XAMMUE', 'XPG', 'acer', 'asus', 'dell', 'hp', 'lenovo'],\n",
       "      dtype=object)"
      ]
     },
     "execution_count": 40,
     "metadata": {},
     "output_type": "execute_result"
    }
   ],
   "source": [
    "brands = Amazon.brand.unique()\n",
    "brands.sort()\n",
    "brands"
   ]
  },
  {
   "cell_type": "markdown",
   "id": "b9c153fa",
   "metadata": {},
   "source": [
    "## I can see repetition of ASUS, DELL, ACER, DELL, HP, LENOVO etc."
   ]
  },
  {
   "cell_type": "code",
   "execution_count": 41,
   "id": "2c628d8c",
   "metadata": {
    "scrolled": true
   },
   "outputs": [
    {
     "data": {
      "text/plain": [
       "array(['acer', 'alienware', 'apple', 'asus', 'awow', 'best notebooks',\n",
       "       'carlisle foodservice products', 'computer upgrade king',\n",
       "       'corsair', 'ctl', 'dell', 'elo', 'gateway', 'gigabyte', 'gizpro',\n",
       "       'goldengulf', 'hp', 'iview', 'jtd', 'latitude', 'lenovo', 'lg',\n",
       "       'lpt', 'luqeeg', 'maingear', 'microsoft', 'microtella', 'msi',\n",
       "       'mytrix', 'onn', 'panasonic', 'quality refurbished computers',\n",
       "       'razer', 'rokc', 'samsung', 'shoxlab', 'tocosy', 'toposh',\n",
       "       'toughbook', 'vaio', 'xammue', 'xpg'], dtype=object)"
      ]
     },
     "execution_count": 41,
     "metadata": {},
     "output_type": "execute_result"
    }
   ],
   "source": [
    "# convert to lower case\n",
    "Amazon.brand = Amazon.brand.str.lower()\n",
    "# remove trailing white spaces\n",
    "Amazon.brand = Amazon.brand.str.strip()\n",
    "\n",
    "brands2 = Amazon.brand.unique()\n",
    "brands2.sort()\n",
    "brands2\n"
   ]
  },
  {
   "cell_type": "code",
   "execution_count": 42,
   "id": "80f13c61",
   "metadata": {
    "scrolled": true
   },
   "outputs": [
    {
     "name": "stdout",
     "output_type": "stream",
     "text": [
      "Now total unique Brands:  42\n"
     ]
    },
    {
     "data": {
      "text/plain": [
       "dell       1730\n",
       "hp          810\n",
       "rokc        637\n",
       "msi         473\n",
       "lenovo      318\n",
       "asus        163\n",
       "acer        119\n",
       "lg           39\n",
       "apple        29\n",
       "samsung      23\n",
       "Name: brand, dtype: int64"
      ]
     },
     "execution_count": 42,
     "metadata": {},
     "output_type": "execute_result"
    }
   ],
   "source": [
    "print('Now total unique Brands: ', len(Amazon.brand.value_counts()))\n",
    "Amazon.brand.value_counts().head(10)"
   ]
  },
  {
   "cell_type": "markdown",
   "id": "6abff025",
   "metadata": {},
   "source": [
    "## Statistical Analysis"
   ]
  },
  {
   "cell_type": "code",
   "execution_count": 43,
   "id": "d87628c5",
   "metadata": {
    "scrolled": true
   },
   "outputs": [
    {
     "data": {
      "image/png": "[encoded data removed]",
      "text/plain": [
       "<Figure size 640x480 with 1 Axes>"
      ]
     },
     "metadata": {},
     "output_type": "display_data"
    }
   ],
   "source": [
    "# Top 10 brands by unit sold\n",
    "Amazon.brand.value_counts().head(10).plot.barh();\n",
    "plt.title('Top 10 Brands')\n",
    "plt.xlabel('No. of units')\n",
    "plt.show()"
   ]
  },
  {
   "cell_type": "code",
   "execution_count": 44,
   "id": "f73d0603",
   "metadata": {
    "scrolled": false
   },
   "outputs": [
    {
     "data": {
      "image/png": "[encoded data removed]",
      "text/plain": [
       "<Figure size 1000x600 with 1 Axes>"
      ]
     },
     "metadata": {},
     "output_type": "display_data"
    }
   ],
   "source": [
    "# 10 average least expensive brands\n",
    "temp = Amazon.groupby('brand').price.mean()\n",
    "temp2 = temp.sort_values(ascending=True)[:10]\n",
    "plt.figure(figsize=(10,6))\n",
    "plt.title('Least Expensive Brands')\n",
    "sns.barplot(y=temp2.index,x=temp2.values);"
   ]
  },
  {
   "cell_type": "code",
   "execution_count": 45,
   "id": "b4d8f937",
   "metadata": {
    "scrolled": true
   },
   "outputs": [
    {
     "data": {
      "image/png": "[encoded data removed]",
      "text/plain": [
       "<Figure size 1000x600 with 1 Axes>"
      ]
     },
     "metadata": {},
     "output_type": "display_data"
    }
   ],
   "source": [
    "# 10 average most expensive brands\n",
    "temp = Amazon.groupby('brand').price.mean()\n",
    "temp2 = temp.sort_values(ascending=False)[:10]\n",
    "plt.figure(figsize=(10,6))\n",
    "plt.title('Most Expensive Brands')\n",
    "sns.barplot(y=temp2.index,x=temp2.values);"
   ]
  },
  {
   "cell_type": "code",
   "execution_count": 46,
   "id": "a3b60d03",
   "metadata": {
    "scrolled": true
   },
   "outputs": [
    {
     "data": {
      "image/png": "[encoded data removed]",
      "text/plain": [
       "<Figure size 1000x600 with 1 Axes>"
      ]
     },
     "metadata": {},
     "output_type": "display_data"
    }
   ],
   "source": [
    "# 10 average most rated brands\n",
    "temp = Amazon.groupby('brand').rating.mean()\n",
    "temp2 = temp.sort_values(ascending=False)[:10]\n",
    "plt.figure(figsize=(10,6))\n",
    "plt.title('High Rated Brands')\n",
    "sns.barplot(y=temp2.index,x=temp2.values);"
   ]
  },
  {
   "cell_type": "markdown",
   "id": "c8c9669f",
   "metadata": {},
   "source": [
    "## Corelation Matrix"
   ]
  },
  {
   "cell_type": "code",
   "execution_count": 47,
   "id": "e0f1fab4",
   "metadata": {
    "scrolled": true
   },
   "outputs": [
    {
     "data": {
      "image/png": "[encoded data removed]",
      "text/plain": [
       "<Figure size 640x480 with 2 Axes>"
      ]
     },
     "metadata": {},
     "output_type": "display_data"
    }
   ],
   "source": [
    "plt.figure()\n",
    "sns.heatmap(Amazon.select_dtypes(exclude=object).corr(),annot=True);"
   ]
  },
  {
   "cell_type": "markdown",
   "id": "2ea30fcb",
   "metadata": {},
   "source": [
    "## Save Cleaned Data"
   ]
  },
  {
   "cell_type": "code",
   "execution_count": 48,
   "id": "4eae48c2",
   "metadata": {},
   "outputs": [],
   "source": [
    "Amazon.to_csv(\"Cleaned_amazon_laptop_prices.csv\", index = False)"
   ]
  }
 ],
 "metadata": {
  "kernelspec": {
   "display_name": "Python 3 (ipykernel)",
   "language": "python",
   "name": "python3"
  },
  "language_info": {
   "codemirror_mode": {
    "name": "ipython",
    "version": 3
   },
   "file_extension": ".py",
   "mimetype": "text/x-python",
   "name": "python",
   "nbconvert_exporter": "python",
   "pygments_lexer": "ipython3",
   "version": "3.11.4"
  }
 },
 "nbformat": 4,
 "nbformat_minor": 5
}
